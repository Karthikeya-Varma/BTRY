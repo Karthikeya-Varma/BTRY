{
 "cells": [
  {
   "cell_type": "code",
   "execution_count": 1,
   "metadata": {},
   "outputs": [],
   "source": [
    "#This cell has the necessary code to retrieve a fasta sequence from the Uniprot website\n",
    "def get_fasta(id):\n",
    "    import urllib2 #importing the library\n",
    "    import string\n",
    "    import re\n",
    "    url = \"https://www.uniprot.org/uniprot/{0}.fasta\".format(id) #importing the fasta sequence\n",
    "    request = urllib2.Request(url) #Request\n",
    "    response = urllib2.urlopen(request) #opening the request\n",
    "    course = response.read() #reading the request\n",
    "    regex = re.compile(r'^>([^\\n\\r]+)[\\n\\r]([A-Z\\n\\r]+)', re.MULTILINE) #reading the fasta sequence\n",
    "    matches = [m.groups() for m in regex.finditer(course)]\n",
    "    fasta1=matches[0][1]\n",
    "    fasta=fasta1.replace(\"\\n\",\"\")\n",
    "    return fasta"
   ]
  },
  {
   "cell_type": "code",
   "execution_count": 2,
   "metadata": {},
   "outputs": [],
   "source": [
    "fasta=get_fasta(\"O12342\")"
   ]
  },
  {
   "cell_type": "code",
   "execution_count": 3,
   "metadata": {},
   "outputs": [],
   "source": [
    "#This cell contains the code which reads the fasta sequence and assigns a position\n",
    "#to the Amino acids and creates a text file.\n",
    "#AA/tposition\n",
    "file1=open('testfile.txt','w')\n",
    "file1.write('AA\\tPosition')\n",
    "position=1\n",
    "for r in fasta:\n",
    "    file1.write('\\n'+r+'\\t'+str(position))\n",
    "    position=position+1\n",
    "\n",
    "\n",
    "#This cell code is used in the website to retrive the sequence for any uniprot ID"
   ]
  },
  {
   "cell_type": "code",
   "execution_count": 4,
   "metadata": {},
   "outputs": [],
   "source": [
    "# Load scikit's random forest classifier library\n",
    "from sklearn.ensemble import RandomForestClassifier\n",
    "\n",
    "# Load pandas\n",
    "import pandas as pd\n",
    "\n",
    "# Load numpy\n",
    "import numpy as np\n",
    "\n",
    "#converting the text file into a table (Expasy_AA_Scales text file)\n",
    "AA_label = pd.read_csv('/home/local/CORNELL/kg526/final_files/Expasy_AA_Scales.txt', sep='\\t') \n",
    "\n",
    "#Changing the column name for future purpose\n",
    "AA_labels=AA_label.rename(index=str, columns={\"Amino Acid\":\"AA\"})\n",
    "\n",
    "path='/home/local/CORNELL/kg526/final_files/Training_Labels.txt'\n",
    "\n",
    "#The below function assigns the Expasy AA Scale label to each Amino Acid in the sequence\n",
    "#and assigns a position number to the AA\n",
    "def read_protein(path):\n",
    "    Protein_AA = pd.read_csv(path, sep='\\t') \n",
    "    Protein_AA.insert(0, 'S.No', range(0, 0 + len(Protein_AA)))\n",
    "    #Merging two tables\n",
    "    Training_set_merge=pd.merge(Protein_AA, AA_labels, on=\"AA\")\n",
    "    Training_set=Training_set_merge.sort_values(by=['S.No'])\n",
    "    return Training_set"
   ]
  },
  {
   "cell_type": "code",
   "execution_count": 5,
   "metadata": {},
   "outputs": [
    {
     "data": {
      "text/plain": [
       "RandomForestClassifier(bootstrap=True, class_weight=None, criterion='gini',\n",
       "            max_depth=None, max_features='auto', max_leaf_nodes=None,\n",
       "            min_impurity_decrease=0.0, min_impurity_split=None,\n",
       "            min_samples_leaf=1, min_samples_split=2,\n",
       "            min_weight_fraction_leaf=0.0, n_estimators=50, n_jobs=1,\n",
       "            oob_score=False, random_state=None, verbose=0,\n",
       "            warm_start=False)"
      ]
     },
     "execution_count": 5,
     "metadata": {},
     "output_type": "execute_result"
    }
   ],
   "source": [
    "#Extracting the label column from the Training Labels to list\n",
    "label=read_protein(path)[\"Label\"].tolist()\n",
    "#Extracting the Amino Acid Sequence column to a list\n",
    "AA_list = read_protein(path)[\"AA\"].tolist()\n",
    "#Extracting the Chou Fasman values for each Amino Acid in the sequence\n",
    "Chou = read_protein(path)[\"alpha_helix__Chou_&_Fasman\"].tolist()\n",
    "#creating a list and assigning first 3 values as 0 as we are starting from position 3\n",
    "#to retrieve the features\n",
    "Chou_avg=[0,0,0] #list for Chou Fasman Avg values (Window size=5)\n",
    "Choumin=[0,0,0] #list for min Chou Fasman values\n",
    "i=3\n",
    "while i < (len(Chou)-3):\n",
    "    y=((Chou[i-2]+Chou[i-1]+Chou[i]+Chou[i+1]+Chou[i+2])/5)\n",
    "    x=min(Chou[i-2],Chou[i-1],Chou[i], Chou[i+1], Chou[i+2])\n",
    "    Chou_avg.append(y)\n",
    "    Choumin.append(x)\n",
    "    i=i+1\n",
    "#new list to maintain the length of the list as we are starting from 3rd position.\n",
    "r_5=[0,0,0] \n",
    "Chou_avg.extend(r_5)\n",
    "Choumin.extend(r_5)\n",
    "\n",
    "#Creating a dataframe Training to use it for training\n",
    "Training=read_protein(path)[['Position', 'AA', 'Label']]\n",
    "\n",
    "#Converting the list to series so that it can be added to the dataframe\n",
    "Chou_avg = pd.Series(Chou_avg)\n",
    "Choumin=pd.Series(Choumin)\n",
    "\n",
    "#Adding the Chou Fasman Avg list and Min Chou Fasman list to the Training Data Frame\n",
    "Training['Chou_avg']=Chou_avg.values\n",
    "Training['Choumin']=Choumin.values\n",
    "\n",
    "#Importing module to divide the Training labels into training list and testing list\n",
    "from sklearn.model_selection import train_test_split\n",
    "\n",
    "#The features used for training the classifier\n",
    "X=Training[['Chou_avg', 'Choumin']]\n",
    "y=Training['Label']\n",
    "\n",
    "#Dividing the Training set into 80/20 Training/Testing sets\n",
    "X_train, X_test, y_train, y_test = train_test_split(X, y, test_size=0.2)\n",
    "\n",
    "#Setting the parameters for the classifier to optimise the performance\n",
    "clf=RandomForestClassifier(n_estimators=50)\n",
    "\n",
    "#fitting the data and training the classifier\n",
    "clf.fit(X_train, y_train)"
   ]
  },
  {
   "cell_type": "code",
   "execution_count": 6,
   "metadata": {},
   "outputs": [],
   "source": [
    "#Taking the probable predicted values instead of predicted values\n",
    "#For testing set\n",
    "Test_Probs = clf.predict_proba(X_test)\n",
    "Test_Probs = Test_Probs[:, 1]\n",
    "\n",
    "#For Training set\n",
    "Train_Probs=clf.predict_proba(X_train)\n",
    "Train_Probs = Train_Probs[:, 1]"
   ]
  },
  {
   "cell_type": "raw",
   "metadata": {},
   "source": [
    "The below cell contains the code to create a ROC plot"
   ]
  },
  {
   "cell_type": "code",
   "execution_count": 7,
   "metadata": {},
   "outputs": [],
   "source": [
    "# First we will import the modules we want to use\n",
    "\n",
    "# Sci-kit learn for machine learning\n",
    "# (If you cannot import this, run the jupyter_restart script I provided\n",
    "# several weeks ago with fresh=True)\n",
    "from sklearn import tree\n",
    "\n",
    "# For working with our data we will use numpy and pandas\n",
    "import numpy as np\n",
    "import pandas as pd\n",
    "pd.options.display.max_columns = 999\n",
    "\n",
    "# For plotting we will use matplotlib\n",
    "%matplotlib inline\n",
    "import matplotlib\n",
    "import matplotlib.pyplot as plt\n",
    "from sklearn import metrics\n",
    "# Here are some methods that I stole to generate these curves\n",
    "\n",
    "# Generates a ROC Curve for a given set of labels and scores\n",
    "# - Accepts as parameters...\n",
    "#   @labels - The label values\n",
    "#   @scores - The predicted scores\n",
    "#   @forcePosAUC - A boolean flag indicating whether scores should be inverted to maximize AUC\n",
    "#                        (i.e. disallow an AUC < 0.50)\n",
    "# - Returns the figure object, auc value, false positive rate, true positive rate, and\n",
    "#    a boolean flad indicating whether or not scores were inverted\n",
    "# - Written for general utility purposes 04/03/17 by Shayne Wierbowski\n",
    "def plotROC(labels, scores, forcePosAUC=False):\n",
    "\n",
    "    fpr, tpr, _ = metrics.roc_curve(labels, scores)\n",
    "    roc_auc = metrics.auc(fpr, tpr)\n",
    "\n",
    "    inverted = False\n",
    "    if(forcePosAUC and roc_auc < 0.5):\n",
    "        fpr, tpr, _ = metrics.roc_curve(labels, -1*np.array(scores))\n",
    "        roc_auc = auc(fpr, tpr)\n",
    "        inverted = True\n",
    "\n",
    "    fig = plt.figure()\n",
    "    lw = 2\n",
    "    plt.plot(fpr, tpr, color=\"darkorange\",\n",
    "    lw=lw, label=\"ROC curve (area = %0.2f)\" % roc_auc)\n",
    "    plt.plot([0, 1], [0, 1], color=\"navy\", lw=lw, linestyle=\"--\")\n",
    "    plt.xlim([0.0, 1.0])\n",
    "    plt.ylim([0.0, 1.05])\n",
    "    plt.xlabel(\"False Positive Rate\")\n",
    "    plt.ylabel(\"True Positive Rate\")\n",
    "    if(inverted):\n",
    "        plt.title(\"Receiver Operating Characteristic (Inversed Score)\")\n",
    "    else:\n",
    "        plt.title(\"Receiver Operating Characteristic\")\n",
    "    plt.legend(loc=\"lower right\")\n",
    "\n",
    "    if(forcePosAUC):\n",
    "        return fig, roc_auc, fpr, tpr, inverted\n",
    "    else:\n",
    "        return fig, roc_auc, fpr, tpr\n",
    "# FUNCTION END\n",
    "\n",
    "# Generates a Precision Recall Curve for a given set of labels and scores\n",
    "# - Accepts as parameters...\n",
    "#   @labels - The label values\n",
    "#   @scores - The predicted scores\n",
    "# - Returns the figure object, auc value, precision, and recall\n",
    "# - Written for general utility purposes 04/07/17 by Shayne Wierbowski\n",
    "def plotPRC(labels, scores):\n",
    "    # Compute Precision-Recall\n",
    "    precision, recall, _ = metrics.precision_recall_curve(labels, scores)\n",
    "    average_precision = metrics.average_precision_score(labels, scores)\n",
    "\n",
    "    # Plot Precision-Recall curve\n",
    "    fig = plt.figure()\n",
    "    lw = 2\n",
    "    plt.plot(recall, precision, lw=lw, color='navy', label='Precision-Recall curve')\n",
    "    plt.xlabel('Recall')\n",
    "    plt.ylabel('Precision')\n",
    "    plt.ylim([0.0, 1.05])\n",
    "    plt.xlim([0.0, 1.0])\n",
    "    plt.title('Precision-Recall: AUC={0:0.2f}'.format(average_precision))\n",
    "    plt.legend(loc=\"lower left\")\n",
    "\n",
    "    return fig, average_precision, precision, recall\n",
    "# FUNCTION END"
   ]
  },
  {
   "cell_type": "code",
   "execution_count": 8,
   "metadata": {
    "scrolled": true
   },
   "outputs": [
    {
     "data": {
      "image/png": "[encoded data removed]",
      "text/plain": [
       "<Figure size 432x288 with 1 Axes>"
      ]
     },
     "metadata": {},
     "output_type": "display_data"
    }
   ],
   "source": [
    "#Plotting a ROC Curve between testing set predicted values and Probable preducted values of testing set\n",
    "plotROC(y_test, Test_Probs)\n",
    "pass"
   ]
  },
  {
   "cell_type": "code",
   "execution_count": 9,
   "metadata": {
    "scrolled": true
   },
   "outputs": [
    {
     "data": {
      "image/png": "[encoded data removed]",
      "text/plain": [
       "<Figure size 432x288 with 1 Axes>"
      ]
     },
     "metadata": {},
     "output_type": "display_data"
    }
   ],
   "source": [
    "#Plotting a ROC Curve between training set predicted values and Probable preducted values of training set\n",
    "plotROC(y_train, Train_Probs)\n",
    "pass"
   ]
  },
  {
   "cell_type": "code",
   "execution_count": 10,
   "metadata": {},
   "outputs": [
    {
     "data": {
      "text/plain": [
       "0.6943412464535738"
      ]
     },
     "execution_count": 10,
     "metadata": {},
     "output_type": "execute_result"
    }
   ],
   "source": [
    "import sklearn\n",
    "#ROC AUC score\n",
    "sklearn.metrics.roc_auc_score(y_train, Train_Probs) "
   ]
  },
  {
   "cell_type": "code",
   "execution_count": 11,
   "metadata": {},
   "outputs": [
    {
     "data": {
      "text/plain": [
       "['/home/local/CORNELL/kg526/public_html/cgi-bin/final_clf.joblib']"
      ]
     },
     "execution_count": 11,
     "metadata": {},
     "output_type": "execute_result"
    }
   ],
   "source": [
    "#Dumping the trained classifier to be used in the website\n",
    "from sklearn.externals import joblib\n",
    "joblib.dump(clf, '/home/local/CORNELL/kg526/public_html/cgi-bin/final_clf.joblib' )"
   ]
  }
 ],
 "metadata": {
  "kernelspec": {
   "display_name": "Python 3",
   "language": "python",
   "name": "python3"
  },
  "language_info": {
   "codemirror_mode": {
    "name": "ipython",
    "version": 3
   },
   "file_extension": ".py",
   "mimetype": "text/x-python",
   "name": "python",
   "nbconvert_exporter": "python",
   "pygments_lexer": "ipython3",
   "version": "3.7.0"
  }
 },
 "nbformat": 4,
 "nbformat_minor": 2
}
